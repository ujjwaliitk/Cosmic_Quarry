{
 "cells": [
  {
   "cell_type": "code",
   "execution_count": 1,
   "id": "cff0cf3b",
   "metadata": {},
   "outputs": [
    {
     "ename": "ModuleNotFoundError",
     "evalue": "No module named 'numpy'",
     "output_type": "error",
     "traceback": [
      "\u001b[31m---------------------------------------------------------------------------\u001b[39m",
      "\u001b[31mModuleNotFoundError\u001b[39m                       Traceback (most recent call last)",
      "\u001b[36mCell\u001b[39m\u001b[36m \u001b[39m\u001b[32mIn[1]\u001b[39m\u001b[32m, line 2\u001b[39m\n\u001b[32m      1\u001b[39m \u001b[38;5;66;03m# 1. Create a NumPy array of 10 numbers and calculate mean and std deviation\u001b[39;00m\n\u001b[32m----> \u001b[39m\u001b[32m2\u001b[39m \u001b[38;5;28;01mimport\u001b[39;00m\u001b[38;5;250m \u001b[39m\u001b[34;01mnumpy\u001b[39;00m\u001b[38;5;250m \u001b[39m\u001b[38;5;28;01mas\u001b[39;00m\u001b[38;5;250m \u001b[39m\u001b[34;01mnp\u001b[39;00m\n\u001b[32m      3\u001b[39m arr = np.array([\u001b[32m3\u001b[39m, \u001b[32m7\u001b[39m, \u001b[32m11\u001b[39m, \u001b[32m6\u001b[39m, \u001b[32m14\u001b[39m, \u001b[32m2\u001b[39m, \u001b[32m15\u001b[39m, \u001b[32m8\u001b[39m, \u001b[32m9\u001b[39m, \u001b[32m16\u001b[39m])\n\u001b[32m      4\u001b[39m mean_value = np.mean(arr)\n",
      "\u001b[31mModuleNotFoundError\u001b[39m: No module named 'numpy'"
     ]
    }
   ],
   "source": [
    "# 1. Create a NumPy array of 10 numbers and calculate mean and std deviation\n",
    "import numpy as np\n",
    "arr = np.array([3, 7, 11, 6, 14, 2, 15, 8, 9, 16])\n",
    "mean_value = np.mean(arr)\n",
    "std_deviation = np.std(arr)\n",
    "\n",
    "print(\"Mean:\", mean_value)\n",
    "print(\"Standard Deviation:\", std_deviation)"
   ]
  },
  {
   "cell_type": "code",
   "execution_count": null,
   "id": "f6f03093",
   "metadata": {},
   "outputs": [],
   "source": [
    "# 2. Load a CSV file using Pandas (or create one manually)\n",
    "import pandas as pd\n",
    "data = {\n",
    "    'Name': ['Suryamani', 'Antriksh', 'Yuvraj'],\n",
    "    'Age': [21, 19, 23],\n",
    "    'City': ['Ajmer', 'Delhi', 'Pune']\n",
    "}\n",
    "df = pd.DataFrame(data)\n",
    "df.to_csv('people.csv', index=False)\n",
    "load_data_frame = pd.read_csv('people.csv')\n",
    "\n",
    "print(load_data_frame)"
   ]
  },
  {
   "cell_type": "code",
   "execution_count": null,
   "id": "76ef8bec",
   "metadata": {},
   "outputs": [],
   "source": [
    "# 3. Plot a histogram of a numerical column using Matplotlib\n",
    "import pandas as pd\n",
    "import matplotlib.pyplot as plt\n",
    "data = {\n",
    "    'Age': [22, 25, 30, 25, 26, 27, 22, 30, 31, 35, 29, 30]\n",
    "}\n",
    "df = pd.DataFrame(data)\n",
    "\n",
    "plt.hist(df['Age'], bins=5, edgecolor='black')\n",
    "plt.title('Histogram of Age')\n",
    "plt.xlabel('Age')\n",
    "plt.ylabel('Frequency')\n",
    "plt.show()"
   ]
  },
  {
   "cell_type": "code",
   "execution_count": null,
   "id": "383d460c",
   "metadata": {},
   "outputs": [],
   "source": [
    "# 4. Filter a DataFrame for rows with marks > 90\n",
    "import pandas as pd\n",
    "data = {\n",
    "    'name': ['Suryamani', 'Yuvraj', 'Antriksh', 'Krish', 'Madhur'],\n",
    "    'marks': [88, 92, 95, 67, 91]\n",
    "}\n",
    "df = pd.DataFrame(data)\n",
    "highscorers = df[df['marks'] > 90]\n",
    "\n",
    "print(highscorers)"
   ]
  },
  {
   "cell_type": "code",
   "execution_count": null,
   "id": "7db2db3e",
   "metadata": {},
   "outputs": [],
   "source": [
    "# 5. Use a scatter plot to visualize relationship between Age and Marks\n",
    "import pandas as pd\n",
    "import matplotlib.pyplot as plt\n",
    "data = {\n",
    "    'Name': ['Suryamani', 'Krish', 'Madhur', 'Antriksh', 'Yuvraj'],\n",
    "    'Age': [20, 22, 23, 21, 24],\n",
    "    'Marks': [88, 92, 95, 67, 91]\n",
    "}\n",
    "df = pd.DataFrame(data)\n",
    "plt.scatter(df['Age'], df['Marks'], color='blue', marker='o')\n",
    "plt.title('Scatter Plot of Age vs Marks')\n",
    "plt.xlabel('Age')\n",
    "plt.ylabel('Marks')\n",
    "plt.grid(True)\n",
    "plt.show()"
   ]
  },
  {
   "cell_type": "code",
   "execution_count": null,
   "id": "ca0d0312",
   "metadata": {},
   "outputs": [],
   "source": [
    "# 6. Try reading an Excel file using pd.read_excel if you have one\n",
    "import pandas as pd\n",
    "df = pd.read_excel('xyz.xlsx')\n",
    "\n",
    "print(df)"
   ]
  },
  {
   "cell_type": "code",
   "execution_count": null,
   "id": "c45449cd",
   "metadata": {},
   "outputs": [],
   "source": [
    "# 7. Merge two DataFrames on a common column\n",
    "import pandas as pd\n",
    "students = pd.DataFrame({\n",
    "    'student_id': [1, 2, 3],\n",
    "    'name': ['Suryamani', 'Antriksh', 'Krish']\n",
    "})\n",
    "marks = pd.DataFrame({\n",
    "    'student_id': [1, 2, 3],\n",
    "    'marks': [85, 90, 95]\n",
    "})\n",
    "merged_df = pd.merge(students, marks, on='student_id')\n",
    "\n",
    "print(merged_df)"
   ]
  },
  {
   "cell_type": "code",
   "execution_count": null,
   "id": "1adff902",
   "metadata": {},
   "outputs": [],
   "source": [
    "# 8. Handle missing values in a DataFrame\n",
    "import pandas as pd\n",
    "import numpy as np\n",
    "data = {\n",
    "    'Name': ['Suryamani', 'Krish', 'Antriksh', 'Yuvraj', None],\n",
    "    'Age': [25, 30, np.nan, 22, 29],\n",
    "    'Marks': [85, 90, 95, None, 88]\n",
    "}\n",
    "df = pd.DataFrame(data)\n",
    "\n",
    "print(\"Original DataFrame:\\n\", df)\n",
    "print(df.isnull())\n",
    "print(df.isnull().sum())\n",
    "\n",
    "df_cleaned = df.dropna()\n",
    "df_filled = df.fillna(0) \n",
    "df['Age'].fillna(df['Age'].mean(), inplace=True)\n",
    "df['Marks'].fillna(df['Marks'].median(), inplace=True)\n",
    "df['Name'].fillna('Unknown', inplace=True)\n",
    "df.dropna(axis=1, thresh=3, inplace=True)"
   ]
  },
  {
   "cell_type": "code",
   "execution_count": null,
   "id": "d0a06217",
   "metadata": {},
   "outputs": [],
   "source": [
    "# 9. Simulate a grayscale image and display its pixel values using NumPy\n",
    "import numpy as np\n",
    "import matplotlib.pyplot as plt\n",
    "image = np.random.randint(0, 256, size=(10, 10), dtype=np.uint8)\n",
    "\n",
    "print(\"Grayscale Image Pixel Values:\\n\", image)\n",
    "\n",
    "plt.imshow(image, cmap='gray', vmin=0, vmax=255)\n",
    "plt.title(\"Simulated Grayscale Image\")\n",
    "plt.colorbar(label='Pixel Intensity')\n",
    "plt.show()"
   ]
  }
 ],
 "metadata": {
  "kernelspec": {
   "display_name": "Python 3",
   "language": "python",
   "name": "python3"
  },
  "language_info": {
   "codemirror_mode": {
    "name": "ipython",
    "version": 3
   },
   "file_extension": ".py",
   "mimetype": "text/x-python",
   "name": "python",
   "nbconvert_exporter": "python",
   "pygments_lexer": "ipython3",
   "version": "3.13.5"
  }
 },
 "nbformat": 4,
 "nbformat_minor": 5
}
